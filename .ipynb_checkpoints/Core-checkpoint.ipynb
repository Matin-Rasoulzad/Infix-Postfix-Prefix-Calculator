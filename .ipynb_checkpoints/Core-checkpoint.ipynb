{
 "cells": [
  {
   "cell_type": "code",
   "execution_count": 17,
   "id": "6cbf5ce8-fc47-4a3c-a7c7-a070ef4f2fad",
   "metadata": {
    "tags": []
   },
   "source": [
    "class ExpressionCalculator:\n",
    "    precedence = {\"(\": 1, \")\": 1, \"^\": 2, \"*\": 3, \"/\": 3, \"+\": 4, \"-\": 4}\n",
    "\n",
    "    @classmethod\n",
    "    def infix2postfix(cls, infix):\n",
    "        stack = []\n",
    "        postfix = []\n",
    "        \n",
    "        for element in infix:\n",
    "            \n",
    "            if \"-\" in element and element.isalnum:\n",
    "                postfix.append(element)\n",
    "                \n",
    "                \n",
    "            elif element.isalnum(): \n",
    "                # alphabet letter (a-z) and numbers (0-9)\n",
    "                postfix.append(element)\n",
    "                \n",
    "                \n",
    "                \n",
    "            elif element == '(':\n",
    "                stack.append(element)\n",
    "            elif element == ')':\n",
    "                while stack and stack[-1] != '(':\n",
    "                    postfix.append(stack.pop())\n",
    "                if not stack:\n",
    "                    raise ValueError(\"Mismatched parentheses in expression\")\n",
    "                stack.pop()  # Remove ( from the stack\n",
    "            else: \n",
    "                while (stack and cls.precedence.get(element, 0) >= cls.precedence.get(stack[-1], 0)):\n",
    "                    #Send element as a key, if not found, return 0\n",
    "                    postfix.append(stack.pop())\n",
    "                stack.append(element)\n",
    "        \n",
    "        # Pop any remaining operators from the stack\n",
    "        while stack:\n",
    "            if stack[-1] == '(' or stack[-1] == ')':\n",
    "                raise ValueError(\"Mismatched parentheses in expression\")\n",
    "            postfix.append(stack.pop())\n",
    "        \n",
    "        return ' '.join(postfix)\n",
    "    \n",
    "    @classmethod\n",
    "    def infix2prefix(cls, infix):\n",
    "        stack = []\n",
    "        prefix = []\n",
    "        \n",
    "        for element in infix:\n",
    "            \n",
    "            if \"-\" in element and element.isalnum:\n",
    "                prefix.append(element)\n",
    "                \n",
    "                \n",
    "            elif element.isalnum(): \n",
    "                # alphabet letter (a-z) and numbers (0-9)\n",
    "                prefix.append(element)\n",
    "                \n",
    "                \n",
    "                \n",
    "            elif element == '(':\n",
    "                stack.append(element)\n",
    "            elif element == ')':\n",
    "                while stack and stack[-1] != '(':\n",
    "                    prefix.insert(0,stack.pop())\n",
    "                if not stack:\n",
    "                    raise ValueError(\"Mismatched parentheses in expression\")\n",
    "                stack.pop()  # Remove ( from the stack\n",
    "            else: \n",
    "                while (stack and cls.precedence.get(element, 0) >= cls.precedence.get(stack[-1], 0)):\n",
    "                    #Send element as a key, if not found, return 0\n",
    "                    prefix.insert(0,stack.pop())\n",
    "                stack.append(element)\n",
    "        \n",
    "        # Pop any remaining operators from the stack\n",
    "        while stack:\n",
    "            if stack[-1] == '(' or stack[-1] == ')':\n",
    "                raise ValueError(\"Mismatched parentheses in expression\")\n",
    "            prefix.insert(0,stack.pop())\n",
    "        \n",
    "        return ' '.join(prefix)"
   ],
   "outputs": []
  },
  {
   "cell_type": "code",
   "execution_count": 18,
   "id": "3c7874cc-4270-41aa-a46a-5ea9c6684c3d",
   "metadata": {
    "tags": []
   },
   "source": [
    "calc = ExpressionCalculator()\n",
    "infix_expression = \"( 5 + 3 )\".split()\n",
    "try:\n",
    "    postfix_expression = calc.infix2postfix(infix_expression)\n",
    "    print(\"Postfix:\", postfix_expression)\n",
    "except ValueError as e:\n",
    "    print(\"Error:\", e)"
   ],
   "outputs": []
  },
  {
   "cell_type": "code",
   "execution_count": 11,
   "id": "69f54e90-18c0-43c2-b406-827ed300463f",
   "metadata": {
    "tags": []
   },
   "source": [
    "calc = ExpressionCalculator()\n",
    "infix_expression = \"( 5 + 3 ) × ( 8 − 6 ) / 2\".split()\n",
    "try:\n",
    "    prefix_expression = calc.infix2prefix(infix_expression)\n",
    "    print(\"Postfix:\", prefix_expression)\n",
    "except ValueError as e:\n",
    "    print(\"Error:\", e)"
   ],
   "outputs": []
  },
  {
   "cell_type": "code",
   "execution_count": null,
   "id": "c325c2f7-3935-43ae-8842-af58ba568bfb",
   "metadata": {},
   "source": [],
   "outputs": []
  }
 ],
 "metadata": {
  "kernelspec": {
   "display_name": "Python 3 (ipykernel)",
   "language": "python",
   "name": "python3"
  },
  "language_info": {
   "codemirror_mode": {
    "name": "ipython",
    "version": 3
   },
   "file_extension": ".py",
   "mimetype": "text/x-python",
   "name": "python",
   "nbconvert_exporter": "python",
   "pygments_lexer": "ipython3",
   "version": "3.11.5"
  }
 },
 "nbformat": 4,
 "nbformat_minor": 5
}
