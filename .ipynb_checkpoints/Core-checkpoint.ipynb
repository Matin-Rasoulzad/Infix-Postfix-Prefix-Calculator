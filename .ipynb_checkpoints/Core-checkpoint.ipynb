{
 "cells": [
  {
   "cell_type": "code",
   "execution_count": 95,
   "id": "6cbf5ce8-fc47-4a3c-a7c7-a070ef4f2fad",
   "metadata": {
    "tags": []
   },
   "outputs": [],
   "source": [
    "class ExpressionCalculator:\n",
    "    precedence = {\"(\": 1, \")\": 1, \"^\": 2, \"*\" : 3, \"×\" : 3, \"/\": 3, \"+\": 4, \"-\":4 ,\"−\": 4}\n",
    "\n",
    "    @classmethod\n",
    "    def infix2postfix(cls, infix):\n",
    "        stack = []\n",
    "        postfix = []\n",
    "\n",
    "        for element in infix:\n",
    "            if (element[0] == \"-\" or element[0] == \"−\") and element[1:].isdigit():\n",
    "                postfix.append(element)\n",
    "                print(element[1:])\n",
    "\n",
    "\n",
    "            elif element.isalnum():\n",
    "                # alphabet letter (a-z) and numbers (0-9)\n",
    "                postfix.append(element)\n",
    "\n",
    "\n",
    "\n",
    "            elif element == '(':\n",
    "                stack.append(element)\n",
    "            elif element == ')':\n",
    "                while stack and stack[-1] != '(':\n",
    "                    postfix.append(stack.pop())\n",
    "                if not stack:\n",
    "                    raise ValueError(\"Mismatched parentheses in expression\")\n",
    "                stack.pop()  # Remove ( from the stack\n",
    "            else:\n",
    "                if stack and not cls.precedence.get(stack[-1]) == 1:\n",
    "                    while (stack and cls.precedence.get(element, 0) <= cls.precedence.get(stack[-1], 0)):\n",
    "                        # Send element as a key, if not found, return 0\n",
    "                        postfix.append(stack.pop())\n",
    "                stack.append(element)\n",
    "\n",
    "        # Pop any remaining operators from the stack\n",
    "        while stack:\n",
    "            if stack[-1] == '(' or stack[-1] == ')':\n",
    "                raise ValueError(\"Mismatched parentheses in expression\")\n",
    "            postfix.append(stack.pop())\n",
    "\n",
    "        return ' '.join(postfix)\n",
    "\n",
    "    @classmethod\n",
    "    def infix2prefix(cls, infix):\n",
    "        reversed_infix = []\n",
    "        for element in reversed(infix):\n",
    "            if element == '(':\n",
    "                reversed_infix.append(')')\n",
    "            elif element == ')':\n",
    "                reversed_infix.append('(')\n",
    "            else:\n",
    "                reversed_infix.append(element)\n",
    "\n",
    "        reversed_postfix = cls.infix2postfix(reversed_infix)\n",
    "        prefix = reversed_postfix.split()[::-1]\n",
    "        return ' '.join(prefix)\n",
    "    \n",
    "    @staticmethod\n",
    "    def evaluate_postfix(postfix):\n",
    "        stack = []\n",
    "\n",
    "        for element in postfix:\n",
    "            if element.isdigit() or (element.lstrip(\"-\").isdigit()):  # Check if it's a number\n",
    "                stack.append(int(element))\n",
    "            else:\n",
    "                if len(stack) < 2:\n",
    "                    raise ValueError(\"Invalid postfix expression\")\n",
    "                \n",
    "                # Pop the top two elements\n",
    "                b = stack.pop()\n",
    "                a = stack.pop()\n",
    "\n",
    "                # Perform the operation\n",
    "                if element == '+':\n",
    "                    stack.append(a + b)\n",
    "                elif element == '-' or element == '-':\n",
    "                    stack.append(a - b)\n",
    "                elif element == '*' or element == '×':\n",
    "                    stack.append(a * b)\n",
    "                elif element == '/':\n",
    "                    if b == 0:\n",
    "                        raise ZeroDivisionError(\"Division by zero\")\n",
    "                    stack.append(a / b)\n",
    "                elif element == '^':\n",
    "                    stack.append(a ** b)\n",
    "                else:\n",
    "                    raise ValueError(f\"Unknown operator: {element}\")\n",
    "\n",
    "        if len(stack) != 1:\n",
    "            raise ValueError(\"Invalid postfix expression\")\n",
    "        return stack[0]"
   ]
  },
  {
   "cell_type": "code",
   "execution_count": 96,
   "id": "3c7874cc-4270-41aa-a46a-5ea9c6684c3d",
   "metadata": {
    "tags": []
   },
   "outputs": [
    {
     "name": "stdout",
     "output_type": "stream",
     "text": [
      "8\n",
      "Postfix: 5 3 + -8 6 - *\n"
     ]
    }
   ],
   "source": [
    "calc = ExpressionCalculator()\n",
    "infix_expression = \"( 5 + 3 ) * ( -8 - 6 )\".split()\n",
    "try:\n",
    "    postfix_expression = calc.infix2postfix(infix_expression)\n",
    "    print(\"Postfix:\", postfix_expression)\n",
    "except ValueError as e:\n",
    "    print(\"Error:\", e)"
   ]
  },
  {
   "cell_type": "code",
   "execution_count": 97,
   "id": "69f54e90-18c0-43c2-b406-827ed300463f",
   "metadata": {
    "tags": []
   },
   "outputs": [
    {
     "name": "stdout",
     "output_type": "stream",
     "text": [
      "8\n",
      "Postfix: * + 5 3 − -8 6\n"
     ]
    }
   ],
   "source": [
    "calc = ExpressionCalculator()\n",
    "infix_expression = \"( 5 + 3 ) * ( -8 − 6 )\".split()\n",
    "try:\n",
    "    prefix_expression = calc.infix2prefix(infix_expression)\n",
    "    print(\"Postfix:\", prefix_expression)\n",
    "except ValueError as e:\n",
    "    print(\"Error:\", e)"
   ]
  },
  {
   "cell_type": "code",
   "execution_count": 98,
   "id": "ae04c243-736c-4c91-a07b-124ec629120d",
   "metadata": {
    "tags": []
   },
   "outputs": [
    {
     "name": "stdout",
     "output_type": "stream",
     "text": [
      "['5', '3', '+', '8', '6', '*']\n",
      "Error: Invalid postfix expression\n"
     ]
    }
   ],
   "source": [
    "calc = ExpressionCalculator()\n",
    "postfix_expression = \"5 3 + 8 6 *\".split()\n",
    "print(postfix_expression)\n",
    "try:\n",
    "    result = calc.evaluate_postfix(postfix_expression)\n",
    "    print(\"Result:\", result)\n",
    "except ValueError as e:\n",
    "    print(\"Error:\", e)"
   ]
  },
  {
   "cell_type": "code",
   "execution_count": null,
   "id": "8ba6d4e1-82cd-415e-a3cd-4e6f17386163",
   "metadata": {},
   "outputs": [],
   "source": []
  }
 ],
 "metadata": {
  "kernelspec": {
   "display_name": "Python 3 (ipykernel)",
   "language": "python",
   "name": "python3"
  },
  "language_info": {
   "codemirror_mode": {
    "name": "ipython",
    "version": 3
   },
   "file_extension": ".py",
   "mimetype": "text/x-python",
   "name": "python",
   "nbconvert_exporter": "python",
   "pygments_lexer": "ipython3",
   "version": "3.11.5"
  }
 },
 "nbformat": 4,
 "nbformat_minor": 5
}
