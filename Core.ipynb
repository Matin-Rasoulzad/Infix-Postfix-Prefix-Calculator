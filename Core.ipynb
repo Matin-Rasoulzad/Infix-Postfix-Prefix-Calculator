{
 "cells": [
  {
   "cell_type": "code",
   "execution_count": 147,
   "id": "6cbf5ce8-fc47-4a3c-a7c7-a070ef4f2fad",
   "metadata": {
    "tags": []
   },
   "outputs": [],
   "source": [
    "import numpy as np\n",
    "import matplotlib.pyplot as plt\n",
    "from sympy import symbols, sympify, lambdify\n",
    "\n",
    "class ExpressionCalculator:\n",
    "    precedence = {\"^\": 2, \"*\" : 3, \"×\" : 3, \"/\": 3, \"+\": 4, \"-\":4 ,\"−\": 4}\n",
    "\n",
    "    @classmethod\n",
    "    def infix2postfix(cls, infix):\n",
    "        stack = []\n",
    "        postfix = []\n",
    "\n",
    "        for element in infix:\n",
    "            if (element[0] == \"-\" or element[0] == \"−\") and element[1:].isdigit():\n",
    "                postfix.append(element)\n",
    "                print(element[1:])\n",
    "\n",
    "\n",
    "            elif element.isalnum():\n",
    "                # alphabet letter (a-z) and numbers (0-9)\n",
    "                postfix.append(element)\n",
    "\n",
    "\n",
    "\n",
    "            elif element == '(':\n",
    "                stack.append(element)\n",
    "            elif element == ')':\n",
    "                while stack and stack[-1] != '(':\n",
    "                    postfix.append(stack.pop())\n",
    "                if not stack:\n",
    "                    raise ValueError(\"Mismatched parentheses in expression\")\n",
    "                stack.pop()  # Remove ( from the stack\n",
    "            else:\n",
    "                if stack and not cls.precedence.get(stack[-1]) == 1:\n",
    "                    while (stack and cls.precedence.get(element, 0) <= cls.precedence.get(stack[-1], 0)):\n",
    "                        # Send element as a key, if not found, return 0\n",
    "                        postfix.append(stack.pop())\n",
    "                stack.append(element)\n",
    "\n",
    "        # Pop any remaining operators from the stack\n",
    "        while stack:\n",
    "            if stack[-1] == '(' or stack[-1] == ')':\n",
    "                raise ValueError(\"Mismatched parentheses in expression\")\n",
    "            postfix.append(stack.pop())\n",
    "\n",
    "        return ' '.join(postfix)\n",
    "    @classmethod\n",
    "    def infix2prefix(cls, infix):\n",
    "        stack = []\n",
    "        prefix = []\n",
    "        \n",
    "        # Reverse the input for prefix conversion\n",
    "        infix = infix[::-1]\n",
    "        \n",
    "        for element in infix:\n",
    "            if (element[0] == \"-\" or element[0] == \"−\") and element[1:].isdigit():\n",
    "                prefix.insert(0, element)\n",
    "            \n",
    "            elif element.isalnum():\n",
    "                prefix.insert(0, element)\n",
    "            \n",
    "            elif element == ')':\n",
    "                stack.append(element)\n",
    "            \n",
    "            elif element == '(':\n",
    "                # Pop operators until ')' is encountered\n",
    "                while stack and stack[-1] != ')':\n",
    "                    prefix.insert(0, stack.pop())\n",
    "                if not stack:\n",
    "                    raise ValueError(\"Mismatched parentheses in expression\")\n",
    "                stack.pop()  # Remove ')' from the stack\n",
    "            \n",
    "            else:\n",
    "                # For prefix, we compare with less than or equal\n",
    "                # Because we're processing from right to left\n",
    "                while (stack and \n",
    "                      stack[-1] != ')' and \n",
    "                      cls.precedence.get(element, 0) >= cls.precedence.get(stack[-1], 0)):\n",
    "                    prefix.insert(0, stack.pop())\n",
    "                stack.append(element)\n",
    "        \n",
    "        # Pop remaining operators from the stack\n",
    "        while stack:\n",
    "            operator = stack.pop()\n",
    "            if operator in ('(', ')'):\n",
    "                raise ValueError(\"Mismatched parentheses in expression\")\n",
    "            prefix.insert(0, operator)\n",
    "        \n",
    "        return ' '.join(prefix)\n",
    "    @staticmethod\n",
    "    def evaluate_postfix(postfix):\n",
    "        stack = []\n",
    "\n",
    "        for element in postfix:\n",
    "            if element.isdigit() or (element.lstrip(\"-\").isdigit()):  # Check if it's a number\n",
    "                stack.append(int(element))\n",
    "            else:\n",
    "                if len(stack) < 2:\n",
    "                    raise ValueError(\"Invalid postfix expression\")\n",
    "                \n",
    "                # Pop the top two elements\n",
    "                b = stack.pop()\n",
    "                a = stack.pop()\n",
    "\n",
    "                # Perform the operation\n",
    "                if element == '+':\n",
    "                    stack.append(a + b)\n",
    "                elif element == '-' or element == '-':\n",
    "                    stack.append(a - b)\n",
    "                elif element == '*' or element == '×':\n",
    "                    stack.append(a * b)\n",
    "                elif element == '/':\n",
    "                    if b == 0:\n",
    "                        raise ZeroDivisionError(\"Division by zero\")\n",
    "                    stack.append(a / b)\n",
    "                elif element == '^':\n",
    "                    stack.append(a ** b)\n",
    "                else:\n",
    "                    raise ValueError(f\"Unknown operator: {element}\")\n",
    "\n",
    "        if len(stack) != 1:\n",
    "            raise ValueError(\"Invalid postfix expression\")\n",
    "        return stack[0]\n",
    "    \n",
    "    @classmethod\n",
    "    def string_to_function(self,input_str):\n",
    "    # Define the function using eval to compute the expression\n",
    "        def f(x):\n",
    "            return eval(input_str)\n",
    "        return f\n",
    "    @staticmethod\n",
    "    def process_and_plot(expression):\n",
    "\n",
    "        # Define the range for x\n",
    "        x = np.linspace(-10, 10, 500)\n",
    "\n",
    "        # Define the function\n",
    "        func = ExpressionCalculator.string_to_function(expression)\n",
    "        y = func(x)\n",
    "        # Create the plot\n",
    "        plt.plot(x, y, label=f\"{expression}\",color=\"red\")\n",
    "        plt.title(f\"Plot of {expression}\")\n",
    "        plt.xlabel(\"x\")\n",
    "        plt.ylabel(\"y\")\n",
    "        plt.axhline(0, color='black',linewidth=0.2)\n",
    "        plt.axvline(0, color='black',linewidth=0.2)\n",
    "        plt.grid(color = 'black', linestyle = '-', linewidth = 0.3)\n",
    "        plt.legend()\n",
    "        plt.show()"
   ]
  },
  {
   "cell_type": "code",
   "execution_count": 148,
   "id": "3c7874cc-4270-41aa-a46a-5ea9c6684c3d",
   "metadata": {
    "tags": []
   },
   "outputs": [
    {
     "name": "stdout",
     "output_type": "stream",
     "text": [
      "Postfix: 2 3 1 - 5 + 2 ^ *\n"
     ]
    }
   ],
   "source": [
    "calc = ExpressionCalculator()\n",
    "infix_expression = \"2 * ( 3 - 1 + 5 ^ 2 )\".split()\n",
    "try:\n",
    "    postfix_expression = calc.infix2postfix(infix_expression)\n",
    "    print(\"Postfix:\", postfix_expression)\n",
    "except ValueError as e:\n",
    "    print(\"Error:\", e)"
   ]
  },
  {
   "cell_type": "code",
   "execution_count": 149,
   "id": "69f54e90-18c0-43c2-b406-827ed300463f",
   "metadata": {
    "tags": []
   },
   "outputs": [
    {
     "name": "stdout",
     "output_type": "stream",
     "text": [
      "Prefix: * 2 + - 3 1 ^ 5 2\n"
     ]
    }
   ],
   "source": [
    "calc = ExpressionCalculator()\n",
    "infix_expression = \"2 * ( 3 - 1 + 5 ^ 2 )\".split()\n",
    "try:\n",
    "    prefix_expression = calc.infix2prefix(infix_expression)\n",
    "    print(\"Prefix:\", prefix_expression)\n",
    "except ValueError as e:\n",
    "    print(\"Error:\", e)"
   ]
  },
  {
   "cell_type": "code",
   "execution_count": 150,
   "id": "ae04c243-736c-4c91-a07b-124ec629120d",
   "metadata": {
    "tags": []
   },
   "outputs": [
    {
     "name": "stdout",
     "output_type": "stream",
     "text": [
      "['5', '3', '+', '8', '6', '-', '*']\n",
      "Result: 16\n"
     ]
    }
   ],
   "source": [
    "calc = ExpressionCalculator()\n",
    "postfix_expression = \"5 3 + 8 6 - *\".split()\n",
    "print(postfix_expression)\n",
    "try:\n",
    "    result = calc.evaluate_postfix(postfix_expression)\n",
    "    print(\"Result:\", result)\n",
    "except ValueError as e:\n",
    "    print(\"Error:\", e)"
   ]
  },
  {
   "cell_type": "code",
   "execution_count": 151,
   "id": "8ba6d4e1-82cd-415e-a3cd-4e6f17386163",
   "metadata": {},
   "outputs": [
    {
     "data": {
      "image/png": "[encoded data removed]",
      "text/plain": [
       "<Figure size 640x480 with 1 Axes>"
      ]
     },
     "metadata": {},
     "output_type": "display_data"
    }
   ],
   "source": [
    "calc = ExpressionCalculator()\n",
    "calc.process_and_plot(\"x**3\")"
   ]
  },
  {
   "cell_type": "code",
   "execution_count": null,
   "id": "76845c4e-406e-4184-8af1-3a7a92fa30ea",
   "metadata": {},
   "outputs": [],
   "source": []
  }
 ],
 "metadata": {
  "kernelspec": {
   "display_name": "Python 3 (ipykernel)",
   "language": "python",
   "name": "python3"
  },
  "language_info": {
   "codemirror_mode": {
    "name": "ipython",
    "version": 3
   },
   "file_extension": ".py",
   "mimetype": "text/x-python",
   "name": "python",
   "nbconvert_exporter": "python",
   "pygments_lexer": "ipython3",
   "version": "3.11.5"
  }
 },
 "nbformat": 4,
 "nbformat_minor": 5
}
